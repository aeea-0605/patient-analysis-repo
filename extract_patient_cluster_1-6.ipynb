{
 "cells": [
  {
   "cell_type": "code",
   "execution_count": 2,
   "id": "ec3d6239",
   "metadata": {},
   "outputs": [],
   "source": [
    "from utils import db_info\n",
    "\n",
    "import numpy as np\n",
    "import pandas as pd\n",
    "import psycopg2\n",
    "from sqlalchemy import *"
   ]
  },
  {
   "cell_type": "markdown",
   "id": "8e8b6588",
   "metadata": {},
   "source": [
    "#### 데이터베이스 접속\n",
    "- data.ini를 사용해 hide variable 진행"
   ]
  },
  {
   "cell_type": "code",
   "execution_count": 4,
   "id": "2376ffc6",
   "metadata": {},
   "outputs": [],
   "source": [
    "connection_format = f'postgresql://{db_info[\"USER\"]}:{db_info[\"PASSWORD\"]}@{db_info[\"HOST\"]}:{db_info[\"PORT\"]}/{db_info[\"DB\"]}'\n",
    "        \n",
    "client = create_engine(connection_format)"
   ]
  },
  {
   "cell_type": "markdown",
   "id": "114a4ef1",
   "metadata": {},
   "source": [
    "### Cluster_1\n",
    "- 모든 환자에 대해 총 내원일수를 구하고 총 내원일수의 최대값과 총 내원일수 최대값을 가지는 환자수 출력\n",
    "    - 분석함수를 사용해 총 내원일수들의 최대값을 구함 : max_visit_period\n",
    "    - 내원한 환자 중 내원일수(visit_period)와 최대 내원일수(max_visit_period)가 같은 환자들의 count 추출\n",
    "    \n",
    "#### RESULT\n",
    "- 내원한 환자들의 최대 내원일수는 3731일 이며, 3731일간 내원한 환자 수는 1명이다."
   ]
  },
  {
   "cell_type": "code",
   "execution_count": 5,
   "id": "b52eb0b2",
   "metadata": {},
   "outputs": [],
   "source": [
    "QUERY_1 = \"\"\"\n",
    "SELECT max_visit_period, count(*) OVER () AS patient_count\n",
    "FROM (\n",
    "    SELECT (visit_end_date - visit_start_date + 1) AS visit_period\n",
    "         , MAX (visit_end_date - visit_start_date + 1) OVER () AS max_visit_period\n",
    "    FROM visit_occurrence\n",
    ") AS A\n",
    "WHERE visit_period = max_visit_period;\n",
    "\"\"\""
   ]
  },
  {
   "cell_type": "code",
   "execution_count": 6,
   "id": "415eabb6",
   "metadata": {},
   "outputs": [
    {
     "data": {
      "text/html": [
       "<div>\n",
       "<style scoped>\n",
       "    .dataframe tbody tr th:only-of-type {\n",
       "        vertical-align: middle;\n",
       "    }\n",
       "\n",
       "    .dataframe tbody tr th {\n",
       "        vertical-align: top;\n",
       "    }\n",
       "\n",
       "    .dataframe thead th {\n",
       "        text-align: right;\n",
       "    }\n",
       "</style>\n",
       "<table border=\"1\" class=\"dataframe\">\n",
       "  <thead>\n",
       "    <tr style=\"text-align: right;\">\n",
       "      <th></th>\n",
       "      <th>max_visit_period</th>\n",
       "      <th>patient_count</th>\n",
       "    </tr>\n",
       "  </thead>\n",
       "  <tbody>\n",
       "    <tr>\n",
       "      <th>0</th>\n",
       "      <td>3731</td>\n",
       "      <td>1</td>\n",
       "    </tr>\n",
       "  </tbody>\n",
       "</table>\n",
       "</div>"
      ],
      "text/plain": [
       "   max_visit_period  patient_count\n",
       "0              3731              1"
      ]
     },
     "execution_count": 6,
     "metadata": {},
     "output_type": "execute_result"
    }
   ],
   "source": [
    "cluster_1 = pd.read_sql(QUERY_1, con=client)\n",
    "cluster_1"
   ]
  },
  {
   "cell_type": "markdown",
   "id": "82540635",
   "metadata": {},
   "source": [
    "### Cluster_2\n",
    "- 환자들이 진단 받은 상병 내역 중 첫글자는 (a, b, c, d, e)로 시작하고 중간에 'heart'가 포함된 상병 이름 출력\n",
    "    - 조건\n",
    "        1. 문자 검색시 대소문자 구분 X\n",
    "        2. 상병 이름을 중복없이 나열\n",
    "    - 과정\n",
    "        - 두 테이블을 JOIN하여 id에 대한 name 정보를 확보\n",
    "        - 상병 이름(concept_name) 중 첫자리가 a, b, c, d, e(`^[a-e]`) 이고, 중간에 heart(`*heart*`)가 들어간 행만 추출\n",
    "        - 중복 제거를 위해 DISTINCT 예약어 사용\n",
    "        \n",
    "#### RESULT\n",
    "- 조건을 모두 만족하는 상병은 `Chronic congestive heart failure` 만 존재한다."
   ]
  },
  {
   "cell_type": "code",
   "execution_count": 7,
   "id": "15ef5f45",
   "metadata": {},
   "outputs": [],
   "source": [
    "QUERY_2 = \"\"\"\n",
    "SELECT DISTINCT B.concept_name\n",
    "FROM condition_occurrence A\n",
    "JOIN concept B\n",
    "ON A.condition_concept_id = B.concept_id\n",
    "WHERE B.concept_name ~* '^[a-e].*heart*';\n",
    "\"\"\""
   ]
  },
  {
   "cell_type": "code",
   "execution_count": 8,
   "id": "61eff2ba",
   "metadata": {},
   "outputs": [
    {
     "data": {
      "text/html": [
       "<div>\n",
       "<style scoped>\n",
       "    .dataframe tbody tr th:only-of-type {\n",
       "        vertical-align: middle;\n",
       "    }\n",
       "\n",
       "    .dataframe tbody tr th {\n",
       "        vertical-align: top;\n",
       "    }\n",
       "\n",
       "    .dataframe thead th {\n",
       "        text-align: right;\n",
       "    }\n",
       "</style>\n",
       "<table border=\"1\" class=\"dataframe\">\n",
       "  <thead>\n",
       "    <tr style=\"text-align: right;\">\n",
       "      <th></th>\n",
       "      <th>concept_name</th>\n",
       "    </tr>\n",
       "  </thead>\n",
       "  <tbody>\n",
       "    <tr>\n",
       "      <th>0</th>\n",
       "      <td>Chronic congestive heart failure</td>\n",
       "    </tr>\n",
       "  </tbody>\n",
       "</table>\n",
       "</div>"
      ],
      "text/plain": [
       "                       concept_name\n",
       "0  Chronic congestive heart failure"
      ]
     },
     "execution_count": 8,
     "metadata": {},
     "output_type": "execute_result"
    }
   ],
   "source": [
    "cluster_2 = pd.read_sql(QUERY_2, con=client)\n",
    "cluster_2"
   ]
  },
  {
   "cell_type": "markdown",
   "id": "b294b34b",
   "metadata": {},
   "source": [
    "### Cluster_3\n",
    "- 특정 환자(1891866)에게 처방된 약의 종류별로 처음 시작일, 마지막 종료일, 복용일에 대한 정보 추출\n",
    "    - 조건\n",
    "        1. 복용일(term) : 마지막 종료일과 처음시작일의 차이 + 1\n",
    "        2. 복용일이 긴 순으로 정렬\n",
    "    - 과정\n",
    "        - 특정 환자에 대한 데이터만 추출한 뒤, 약 종류별로 그룹핑을 진행(group by)\n",
    "        - 약 종류별로 처음 시작일 중 최소값(해당 약을 최초로 복용한 날짜 : start_date), 마지막 종료일 중 최대값(해당 약을 최후로 복용한 날짜 : end_date)에 대한 컬럼 생성\n",
    "        - 위 과정을 진행한 쿼리를 인라인 뷰에 넣고, end_date와 start_date 간의 차이(term)를 구하고 term을 기준으로 내림차순 진행\n",
    "        \n",
    "#### RESULT\n",
    "- 해당 환자는 19009384, 19030765, 40213154, 1539463, 40213227 에 대한 약을 복용하였다.\n",
    "- 각 약에 대한 복용일은 14190, 3640, 3221, 2921, 1일 이다."
   ]
  },
  {
   "cell_type": "code",
   "execution_count": 23,
   "id": "5e5ab80c",
   "metadata": {},
   "outputs": [],
   "source": [
    "QUERY_3 = \"\"\"\n",
    "SELECT drug_concept_id, start_date, end_date, (end_date - start_date + 1) AS term\n",
    "FROM (\n",
    "    SELECT\n",
    "          drug_concept_id\n",
    "        , MIN(drug_exposure_start_date) AS start_date\n",
    "        , MAX(drug_exposure_end_date) AS end_date\n",
    "    FROM drug_exposure\n",
    "    WHERE person_id = 1891866\n",
    "    GROUP BY drug_concept_id\n",
    "     ) AS A\n",
    "ORDER BY term DESC;\n",
    "\"\"\""
   ]
  },
  {
   "cell_type": "code",
   "execution_count": 24,
   "id": "68726c78",
   "metadata": {},
   "outputs": [
    {
     "data": {
      "text/html": [
       "<div>\n",
       "<style scoped>\n",
       "    .dataframe tbody tr th:only-of-type {\n",
       "        vertical-align: middle;\n",
       "    }\n",
       "\n",
       "    .dataframe tbody tr th {\n",
       "        vertical-align: top;\n",
       "    }\n",
       "\n",
       "    .dataframe thead th {\n",
       "        text-align: right;\n",
       "    }\n",
       "</style>\n",
       "<table border=\"1\" class=\"dataframe\">\n",
       "  <thead>\n",
       "    <tr style=\"text-align: right;\">\n",
       "      <th></th>\n",
       "      <th>drug_concept_id</th>\n",
       "      <th>start_date</th>\n",
       "      <th>end_date</th>\n",
       "      <th>term</th>\n",
       "    </tr>\n",
       "  </thead>\n",
       "  <tbody>\n",
       "    <tr>\n",
       "      <th>0</th>\n",
       "      <td>19009384</td>\n",
       "      <td>1959-12-01</td>\n",
       "      <td>1998-10-06</td>\n",
       "      <td>14190</td>\n",
       "    </tr>\n",
       "    <tr>\n",
       "      <th>1</th>\n",
       "      <td>19030765</td>\n",
       "      <td>1988-10-18</td>\n",
       "      <td>1998-10-05</td>\n",
       "      <td>3640</td>\n",
       "    </tr>\n",
       "    <tr>\n",
       "      <th>2</th>\n",
       "      <td>40213154</td>\n",
       "      <td>1989-09-12</td>\n",
       "      <td>1998-07-07</td>\n",
       "      <td>3221</td>\n",
       "    </tr>\n",
       "    <tr>\n",
       "      <th>3</th>\n",
       "      <td>1539463</td>\n",
       "      <td>1990-03-13</td>\n",
       "      <td>1998-03-11</td>\n",
       "      <td>2921</td>\n",
       "    </tr>\n",
       "    <tr>\n",
       "      <th>4</th>\n",
       "      <td>40213227</td>\n",
       "      <td>1993-01-05</td>\n",
       "      <td>1993-01-05</td>\n",
       "      <td>1</td>\n",
       "    </tr>\n",
       "  </tbody>\n",
       "</table>\n",
       "</div>"
      ],
      "text/plain": [
       "   drug_concept_id  start_date    end_date   term\n",
       "0         19009384  1959-12-01  1998-10-06  14190\n",
       "1         19030765  1988-10-18  1998-10-05   3640\n",
       "2         40213154  1989-09-12  1998-07-07   3221\n",
       "3          1539463  1990-03-13  1998-03-11   2921\n",
       "4         40213227  1993-01-05  1993-01-05      1"
      ]
     },
     "execution_count": 24,
     "metadata": {},
     "output_type": "execute_result"
    }
   ],
   "source": [
    "cluster_3 = pd.read_sql(QUERY_3, con=client)\n",
    "cluster_3"
   ]
  },
  {
   "cell_type": "markdown",
   "id": "4efc9fe5",
   "metadata": {},
   "source": [
    "### Cluster_4\n",
    "- 15가지의 약의 처방 건수와 각 약별로 짝지어진 약의 처방 건수 중 두번째 약의 처방 건수가 첫번째 약의 처방 건수보다 더 많은 첫번째 약품명을 출력\n",
    "    - 조건\n",
    "        1. 처방건수 순으로 출력 : 두번째 약의 처방 건수 순으로 진행함\n",
    "        2. 명시된 VIEW테이블 활용\n",
    "            a. drugs : drug_concept_id(첫번째약 번호), concept_name(약품명)\n",
    "            b. prescription_count : drug_concept_id(첫번째약 번호), cnt(처방건수)\n",
    "            c. drug_pair : drug_concept_id1(첫번째약 번호), drug_concept_id2(두번째약 번호)\n",
    "            \n",
    "    - 과정\n",
    "        - FROM절 인라인뷰(d_pc) : drugs와 prescription_count을 JOIN하여 첫번째 약들에 대한 처방 건수 출력(id1_cnt)\n",
    "        - JOIN절 인라인뷰(dp_pc) : drug_pair와 prescription_count을 JOIN하여 짝지어진 두번째 약들에 대한 처방 건수 출력(id2_cnt)\n",
    "        - 두 테이블의 첫번째 약에 대한 번호를 기준으로 JOIN한 뒤, id1_cnt보다 id2_cnt가 큰 약들만 추출\n",
    "        - filtering된 약들 중 id2_cnt에 대해 내림차순한 약 이름(concept_name) 출력\n",
    "        \n",
    "#### RESULT\n",
    "- 첫번째 약 처방 건수보다 짝지어진 두번째 약 처방 건수가 많은 약들은 총 10개가 존재한다."
   ]
  },
  {
   "cell_type": "code",
   "execution_count": 25,
   "id": "dd48c809",
   "metadata": {},
   "outputs": [],
   "source": [
    "QUERY_4 = \"\"\"\n",
    "WITH drug_list AS (\n",
    "SELECT DISTINCT drug_concept_id, concept_name, count(*) AS cnt\n",
    "FROM drug_exposure\n",
    "JOIN concept\n",
    "ON drug_concept_id = concept_id\n",
    "WHERE concept_id IN (40213154, 19078106, 19009384, 40224172, 19127663, 1511248, 40169216, 1539463\n",
    "                    , 19126352, 1539411, 1332419, 40163924, 19030765, 19106768, 19075601)\n",
    "GROUP BY drug_concept_id, concept_name\n",
    "ORDER BY count(*) DESC \n",
    ")\n",
    ", drugs AS (\n",
    "SELECT drug_concept_id, concept_name\n",
    "FROM drug_list\n",
    ")\n",
    ", prescription_count AS (\n",
    "SELECT drug_concept_id, cnt\n",
    "FROM drug_list\n",
    ")\n",
    "\n",
    "SELECT concept_name\n",
    "FROM (\n",
    "    SELECT d.drug_concept_id, d.concept_name, pc.cnt AS id1_cnt\n",
    "    FROM drugs d\n",
    "    JOIN prescription_count pc\n",
    "    ON d.drug_concept_id = pc.drug_concept_id\n",
    ") AS d_pc\n",
    "JOIN (\n",
    "    SELECT drug_pair.*, pc.cnt AS id2_cnt\n",
    "    FROM drug_pair\n",
    "    JOIN prescription_count pc\n",
    "    ON drug_pair.drug_concept_id2 = pc.drug_concept_id\n",
    ") AS dp_pc\n",
    "ON d_pc.drug_concept_id = dp_pc.drug_concept_id1\n",
    "WHERE id1_cnt < id2_cnt\n",
    "ORDER BY id2_cnt DESC;\n",
    "\"\"\""
   ]
  },
  {
   "cell_type": "code",
   "execution_count": 26,
   "id": "cb9e6434",
   "metadata": {},
   "outputs": [
    {
     "data": {
      "text/html": [
       "<div>\n",
       "<style scoped>\n",
       "    .dataframe tbody tr th:only-of-type {\n",
       "        vertical-align: middle;\n",
       "    }\n",
       "\n",
       "    .dataframe tbody tr th {\n",
       "        vertical-align: top;\n",
       "    }\n",
       "\n",
       "    .dataframe thead th {\n",
       "        text-align: right;\n",
       "    }\n",
       "</style>\n",
       "<table border=\"1\" class=\"dataframe\">\n",
       "  <thead>\n",
       "    <tr style=\"text-align: right;\">\n",
       "      <th></th>\n",
       "      <th>concept_name</th>\n",
       "    </tr>\n",
       "  </thead>\n",
       "  <tbody>\n",
       "    <tr>\n",
       "      <th>0</th>\n",
       "      <td>hydrochlorothiazide 25 MG Oral Tablet</td>\n",
       "    </tr>\n",
       "    <tr>\n",
       "      <th>1</th>\n",
       "      <td>amlodipine 5 MG / hydrochlorothiazide 12.5 MG ...</td>\n",
       "    </tr>\n",
       "    <tr>\n",
       "      <th>2</th>\n",
       "      <td>hydrochlorothiazide 12.5 MG Oral Tablet</td>\n",
       "    </tr>\n",
       "    <tr>\n",
       "      <th>3</th>\n",
       "      <td>24 HR metformin hydrochloride 500 MG Extended ...</td>\n",
       "    </tr>\n",
       "    <tr>\n",
       "      <th>4</th>\n",
       "      <td>atenolol 50 MG / chlorthalidone 25 MG Oral Tab...</td>\n",
       "    </tr>\n",
       "    <tr>\n",
       "      <th>5</th>\n",
       "      <td>1 ML epoetin alfa 4000 UNT/ML Injection [Epogen]</td>\n",
       "    </tr>\n",
       "    <tr>\n",
       "      <th>6</th>\n",
       "      <td>120 ACTUAT fluticasone propionate 0.044 MG/ACT...</td>\n",
       "    </tr>\n",
       "    <tr>\n",
       "      <th>7</th>\n",
       "      <td>simvastatin 20 MG Oral Tablet</td>\n",
       "    </tr>\n",
       "    <tr>\n",
       "      <th>8</th>\n",
       "      <td>amlodipine 5 MG Oral Tablet</td>\n",
       "    </tr>\n",
       "    <tr>\n",
       "      <th>9</th>\n",
       "      <td>clopidogrel 75 MG Oral Tablet</td>\n",
       "    </tr>\n",
       "  </tbody>\n",
       "</table>\n",
       "</div>"
      ],
      "text/plain": [
       "                                        concept_name\n",
       "0              hydrochlorothiazide 25 MG Oral Tablet\n",
       "1  amlodipine 5 MG / hydrochlorothiazide 12.5 MG ...\n",
       "2            hydrochlorothiazide 12.5 MG Oral Tablet\n",
       "3  24 HR metformin hydrochloride 500 MG Extended ...\n",
       "4  atenolol 50 MG / chlorthalidone 25 MG Oral Tab...\n",
       "5   1 ML epoetin alfa 4000 UNT/ML Injection [Epogen]\n",
       "6  120 ACTUAT fluticasone propionate 0.044 MG/ACT...\n",
       "7                      simvastatin 20 MG Oral Tablet\n",
       "8                        amlodipine 5 MG Oral Tablet\n",
       "9                      clopidogrel 75 MG Oral Tablet"
      ]
     },
     "execution_count": 26,
     "metadata": {},
     "output_type": "execute_result"
    }
   ],
   "source": [
    "cluster_4 = pd.read_sql(QUERY_4, con=client)\n",
    "cluster_4"
   ]
  },
  {
   "cell_type": "markdown",
   "id": "779509a2",
   "metadata": {},
   "source": [
    "### Cluster_5\n",
    "- 조건에 해당하는 환자수 추출\n",
    "    - 조건\n",
    "        1. 제 2형 당뇨병을 진단받은 환자\n",
    "        2. 18세 이상 환자\n",
    "        3. 진단 이후 Metformin을 90일 이상 복용한 환자\n",
    "    - 과정\n",
    "        - diabetes_list : 조건 1에 대한 VIEW 테이블 생성\n",
    "            - Age를 구하기 위해 TO_CHAR를 통해 condition_start_date에 대한 year 데이터만 추출한 컬럼 생성 : start_condition_year\n",
    "        - over_90 : 조건 3에 대한 VIEW 테이블 생성\n",
    "            - 처방에 대한 데이터셋에서 처방 종료 일시(drug_exposure_end_date)와 처방 시작 일시(drug_exposure_start_date) 간의 차이에 대한 컬럼 생성 : exposure_term\n",
    "        - FROM 인라인뷰(diabetes_over_18) : diabetes_list, person 테이블을 person_id로 JOIN한 뒤, start_condition_year를 INT로 형반환한 값과 year_of_birth의 차이가 18이상인 행만 추출\n",
    "        - 90일 이상 복용한 환자(over_90)와 diabetes_over_18를 person_id로 JOIN한 뒤, 복용일(exposure_term)이 90이상인 환자만 추출\n",
    "        \n",
    "#### RESULT\n",
    "- 제 2형 당뇨병을 진단받고, Metformin을 90일 이상 복용한 18세 이상을 환자들의 수는 30이다."
   ]
  },
  {
   "cell_type": "code",
   "execution_count": 27,
   "id": "424259be",
   "metadata": {},
   "outputs": [],
   "source": [
    "QUERY_5 = \"\"\"\n",
    "WITH diabetes_list AS (\n",
    "SELECT *, TO_CHAR(condition_start_date, 'YYYY') AS start_condition_year\n",
    "FROM condition_occurrence\n",
    "WHERE condition_concept_id IN (3191208, 36684827, 3194332, 3193274, 43531010, 4130162\n",
    "                              ,45766052, 45757474, 4099651, 4129519, 4063043, 4230254\n",
    "                              ,4193704, 4304377, 201826, 3194082, 3192767)\n",
    ")\n",
    ", over_90 AS (\n",
    "SELECT *, (drug_exposure_end_date - drug_exposure_start_date + 1) AS exposure_term\n",
    "FROM drug_exposure\n",
    "WHERE drug_concept_id = 40163924\n",
    ")\n",
    "\n",
    "SELECT COUNT(DISTINCT over_90.person_id) AS cnt -- drug_exposure에서 특정 환자마다 해당 약품처방을 여러번의 진단에서 동일하게 받은 경우도 있기에\n",
    "FROM (\n",
    "    SELECT dl.person_id\n",
    "    FROM diabetes_list dl\n",
    "    JOIN person p\n",
    "    ON dl.person_id = p.person_id\n",
    "    WHERE (CAST(dl.start_condition_year AS INT) - p.year_of_birth) >= 18\n",
    ") AS diabetes_over_18\n",
    "JOIN over_90\n",
    "ON diabetes_over_18.person_id = over_90.person_id\n",
    "WHERE over_90.exposure_term >= 90;\n",
    "\"\"\""
   ]
  },
  {
   "cell_type": "code",
   "execution_count": 28,
   "id": "e6c6eec2",
   "metadata": {},
   "outputs": [
    {
     "data": {
      "text/html": [
       "<div>\n",
       "<style scoped>\n",
       "    .dataframe tbody tr th:only-of-type {\n",
       "        vertical-align: middle;\n",
       "    }\n",
       "\n",
       "    .dataframe tbody tr th {\n",
       "        vertical-align: top;\n",
       "    }\n",
       "\n",
       "    .dataframe thead th {\n",
       "        text-align: right;\n",
       "    }\n",
       "</style>\n",
       "<table border=\"1\" class=\"dataframe\">\n",
       "  <thead>\n",
       "    <tr style=\"text-align: right;\">\n",
       "      <th></th>\n",
       "      <th>cnt</th>\n",
       "    </tr>\n",
       "  </thead>\n",
       "  <tbody>\n",
       "    <tr>\n",
       "      <th>0</th>\n",
       "      <td>30</td>\n",
       "    </tr>\n",
       "  </tbody>\n",
       "</table>\n",
       "</div>"
      ],
      "text/plain": [
       "   cnt\n",
       "0   30"
      ]
     },
     "execution_count": 28,
     "metadata": {},
     "output_type": "execute_result"
    }
   ],
   "source": [
    "cluster_5 = pd.read_sql(QUERY_5, con=client)\n",
    "cluster_5"
   ]
  },
  {
   "cell_type": "markdown",
   "id": "b4b22b49",
   "metadata": {},
   "source": [
    "### Cluster_6\n",
    "- 제 2형 당뇨병을 진단받은 환자에서 추출한 환자군의 의약품 처방이 변경된 패턴을 추출\n",
    "    - 조건\n",
    "        1. 제 2형 당뇨병을 진단받은 환자\n",
    "        2. 5가지의 drug_concept_id만 사용\n",
    "        2. 빈도에 대해 내림차순으로 정렬\n",
    "    - 과정\n",
    "        - diabetes_list : 조건 1에 대한 VIEW 테이블 생성\n",
    "        - drug_cluster : 조건 2에 대한 VIEW 테이블 생성\n",
    "            - 스칼라 뷰로 조건 1을 만족하는 환자에 대해서만 추출 진행\n",
    "        - drug_cluster 테이블에서 person_id, drug_concept_id로 그룹핑 진행\n",
    "        - 그룹별 최소 복용 시간(min_date)를 구하고, person_id로 파티션을 구분하고 min_date기준으로 정렬\n",
    "        - 분석함수 LAG와 LEAD를 사용해 각각 이전 처방의 약(lag_drug_concept_id) 이후 처방의 약(lead_min_date)에 대한 정보 추출\n",
    "        \n",
    "#### RESULT\n",
    "- 해당 과정을 통해 추출한 데이터셋을 Python으로 추가적인 전처리 진행"
   ]
  },
  {
   "cell_type": "code",
   "execution_count": 15,
   "id": "cfca6b30",
   "metadata": {},
   "outputs": [],
   "source": [
    "QUERY_6 = \"\"\"\n",
    "WITH diabetes_list AS (\n",
    "SELECT *\n",
    "FROM condition_occurrence\n",
    "WHERE condition_concept_id IN (3191208, 36684827, 3194332, 3193274, 43531010, 4130162\n",
    "                              ,45766052, 45757474, 4099651, 4129519, 4063043, 4230254\n",
    "                              ,4193704,4304377,201826,3194082,3192767)\n",
    ")\n",
    ", drug_cluster AS (\n",
    "SELECT *\n",
    "FROM (\n",
    "    SELECT *\n",
    "    FROM drug_exposure\n",
    "    WHERE drug_concept_id IN (19018935, 1539411, 1539463, 19075601, 1115171)\n",
    ") AS de\n",
    "WHERE person_id IN (SELECT person_id FROM diabetes_list)\n",
    ")\n",
    "\n",
    "SELECT person_id, drug_concept_id, MIN(drug_exposure_start_date) AS min_date\n",
    "     , LAG (drug_concept_id, 1) OVER (PARTITION BY person_id ORDER BY MIN(drug_exposure_start_date)) AS lag_drug_concept_id\n",
    "     , LEAD (MIN(drug_exposure_start_date), 1) OVER (PARTITION BY person_id ORDER BY MIN(drug_exposure_start_date)) AS lead_min_date\n",
    "FROM drug_cluster\n",
    "GROUP BY person_id, drug_concept_id \n",
    "ORDER BY person_id, min_date;\n",
    "\"\"\""
   ]
  },
  {
   "cell_type": "markdown",
   "id": "a20d3f83",
   "metadata": {},
   "source": [
    "#### SQL을 사용한 전처리"
   ]
  },
  {
   "cell_type": "code",
   "execution_count": 18,
   "id": "ebf019e5",
   "metadata": {},
   "outputs": [
    {
     "data": {
      "text/html": [
       "<div>\n",
       "<style scoped>\n",
       "    .dataframe tbody tr th:only-of-type {\n",
       "        vertical-align: middle;\n",
       "    }\n",
       "\n",
       "    .dataframe tbody tr th {\n",
       "        vertical-align: top;\n",
       "    }\n",
       "\n",
       "    .dataframe thead th {\n",
       "        text-align: right;\n",
       "    }\n",
       "</style>\n",
       "<table border=\"1\" class=\"dataframe\">\n",
       "  <thead>\n",
       "    <tr style=\"text-align: right;\">\n",
       "      <th></th>\n",
       "      <th>person_id</th>\n",
       "      <th>drug_concept_id</th>\n",
       "      <th>min_date</th>\n",
       "      <th>lag_drug_concept_id</th>\n",
       "      <th>lead_min_date</th>\n",
       "    </tr>\n",
       "  </thead>\n",
       "  <tbody>\n",
       "    <tr>\n",
       "      <th>0</th>\n",
       "      <td>31196</td>\n",
       "      <td>1539463</td>\n",
       "      <td>1997-05-14</td>\n",
       "      <td>NaN</td>\n",
       "      <td>2014-08-26</td>\n",
       "    </tr>\n",
       "    <tr>\n",
       "      <th>1</th>\n",
       "      <td>31196</td>\n",
       "      <td>1115171</td>\n",
       "      <td>2014-08-26</td>\n",
       "      <td>1539463.0</td>\n",
       "      <td>None</td>\n",
       "    </tr>\n",
       "    <tr>\n",
       "      <th>2</th>\n",
       "      <td>50663</td>\n",
       "      <td>1115171</td>\n",
       "      <td>2014-08-01</td>\n",
       "      <td>NaN</td>\n",
       "      <td>None</td>\n",
       "    </tr>\n",
       "    <tr>\n",
       "      <th>3</th>\n",
       "      <td>67212</td>\n",
       "      <td>1115171</td>\n",
       "      <td>2016-11-19</td>\n",
       "      <td>NaN</td>\n",
       "      <td>None</td>\n",
       "    </tr>\n",
       "    <tr>\n",
       "      <th>4</th>\n",
       "      <td>170280</td>\n",
       "      <td>1115171</td>\n",
       "      <td>2002-09-30</td>\n",
       "      <td>NaN</td>\n",
       "      <td>None</td>\n",
       "    </tr>\n",
       "  </tbody>\n",
       "</table>\n",
       "</div>"
      ],
      "text/plain": [
       "   person_id  drug_concept_id    min_date  lag_drug_concept_id lead_min_date\n",
       "0      31196          1539463  1997-05-14                  NaN    2014-08-26\n",
       "1      31196          1115171  2014-08-26            1539463.0          None\n",
       "2      50663          1115171  2014-08-01                  NaN          None\n",
       "3      67212          1115171  2016-11-19                  NaN          None\n",
       "4     170280          1115171  2002-09-30                  NaN          None"
      ]
     },
     "execution_count": 18,
     "metadata": {},
     "output_type": "execute_result"
    }
   ],
   "source": [
    "cluster_6 = pd.read_sql(QUERY_6, con=client)\n",
    "cluster_6.head()"
   ]
  },
  {
   "cell_type": "markdown",
   "id": "d8e7a219",
   "metadata": {},
   "source": [
    "### Python을 사용한 전처리"
   ]
  },
  {
   "cell_type": "markdown",
   "id": "1948aa03",
   "metadata": {},
   "source": [
    "- pettern_list : 약이 총 5가지 이므로 `a~e`로 정의\n",
    "- person_list : 추출한 환자들의 고유값"
   ]
  },
  {
   "cell_type": "code",
   "execution_count": 19,
   "id": "25df96b7",
   "metadata": {},
   "outputs": [],
   "source": [
    "pettern_list = ['a', 'b', 'c', 'd', 'e']\n",
    "person_list = cluster_6['person_id'].unique().tolist()"
   ]
  },
  {
   "cell_type": "markdown",
   "id": "8b93a1fb",
   "metadata": {},
   "source": [
    "#### 각 환자별 패턴을 정의하는 함수 생성"
   ]
  },
  {
   "cell_type": "code",
   "execution_count": 20,
   "id": "18186cab",
   "metadata": {},
   "outputs": [],
   "source": [
    "def defind_pettern(df, person_id):\n",
    "    # 인자로 들어온 person_id에 대한 데이터만 추출\n",
    "    personal_df = df[df['person_id'] == person_id]\n",
    "    \n",
    "    personal_pettern = []\n",
    "    cnt = 0\n",
    "    while True:\n",
    "        # 현재 행의 drug_concept_id가 lag_drug_concept_id의 값과 다르다면 (약을 처방하는 패턴이 바뀜)\n",
    "        if personal_df.iloc[cnt]['lag_drug_concept_id'] != personal_df.iloc[cnt]['drug_concept_id']:\n",
    "            # 현재 행의 min_date가 lead_min_date과 다르다면 (동시에 처방하지 않음)\n",
    "            if personal_df.iloc[cnt]['min_date'] != personal_df.iloc[cnt]['lead_min_date']:\n",
    "                # pettern_list 중 첫번째 패턴을 넣고 다음 패턴으로 변경\n",
    "                personal_pettern.append(pettern_list[cnt])\n",
    "                cnt += 1\n",
    "            # 현재 행의 min_date가 lead_min_date과 같다면 (동시에 처방)\n",
    "            else:\n",
    "                # 2개의 패턴 추출\n",
    "                p1, p2 = pettern_list[cnt], pettern_list[cnt+1]\n",
    "                # 패턴에 대한 포맷 정의\n",
    "                pettern = f'({p1},{p2})'\n",
    "                # 패턴 저장\n",
    "                personal_pettern.append(pettern)\n",
    "                # 두 개의 행에 대해 진행했기에 cnt + 2\n",
    "                cnt += 2\n",
    "                # cnt가 해당 환자의 처방건수 이상이면 종료\n",
    "                if cnt >= len(personal_df):\n",
    "                    break\n",
    "                # 아직 처방건수가 존재한다면\n",
    "                else:\n",
    "                    # 다음 행의 drug_concept_id가 이전의 drug_concept_id과 같다면 두번째 패턴을 저장\n",
    "                    if personal_df.iloc[cnt]['lag_drug_concept_id'] == personal_df.iloc[cnt]['drug_concept_id']:\n",
    "                        personal_pettern.append(p2)\n",
    "                    # 다음 행의 drug_concept_id가 두 개 이전의 drug_concept_id과 같다면 첫번째 패턴을 저장\n",
    "                    elif personal_df.iloc[cnt]['drug_concept_id'] == personal_df.iloc[cnt-2]['drug_concept_id']:\n",
    "                        personal_pettern.append(p1)\n",
    "        \n",
    "        # cnt가 해당 환자의 처방건수 이상이면 종료\n",
    "        if cnt >= len(personal_df):\n",
    "            break\n",
    "            \n",
    "    return personal_pettern"
   ]
  },
  {
   "cell_type": "markdown",
   "id": "155a2dbb",
   "metadata": {},
   "source": [
    "#### 각 환자별 패턴 정의 진행\n",
    "- 패턴 사이를 `,`에서 `->`로 변경"
   ]
  },
  {
   "cell_type": "code",
   "execution_count": 21,
   "id": "b1583fac",
   "metadata": {},
   "outputs": [
    {
     "data": {
      "text/html": [
       "<div>\n",
       "<style scoped>\n",
       "    .dataframe tbody tr th:only-of-type {\n",
       "        vertical-align: middle;\n",
       "    }\n",
       "\n",
       "    .dataframe tbody tr th {\n",
       "        vertical-align: top;\n",
       "    }\n",
       "\n",
       "    .dataframe thead th {\n",
       "        text-align: right;\n",
       "    }\n",
       "</style>\n",
       "<table border=\"1\" class=\"dataframe\">\n",
       "  <thead>\n",
       "    <tr style=\"text-align: right;\">\n",
       "      <th></th>\n",
       "      <th>pattern</th>\n",
       "    </tr>\n",
       "  </thead>\n",
       "  <tbody>\n",
       "    <tr>\n",
       "      <th>0</th>\n",
       "      <td>a -&gt; b</td>\n",
       "    </tr>\n",
       "    <tr>\n",
       "      <th>1</th>\n",
       "      <td>a</td>\n",
       "    </tr>\n",
       "    <tr>\n",
       "      <th>2</th>\n",
       "      <td>a</td>\n",
       "    </tr>\n",
       "    <tr>\n",
       "      <th>3</th>\n",
       "      <td>a</td>\n",
       "    </tr>\n",
       "    <tr>\n",
       "      <th>4</th>\n",
       "      <td>a -&gt; (b,c) -&gt; d</td>\n",
       "    </tr>\n",
       "  </tbody>\n",
       "</table>\n",
       "</div>"
      ],
      "text/plain": [
       "           pattern\n",
       "0           a -> b\n",
       "1                a\n",
       "2                a\n",
       "3                a\n",
       "4  a -> (b,c) -> d"
      ]
     },
     "execution_count": 21,
     "metadata": {},
     "output_type": "execute_result"
    }
   ],
   "source": [
    "pattern_df = pd.DataFrame(columns=['pattern'])\n",
    "result = []\n",
    "for person_id in person_list:\n",
    "    pattern = defind_pettern(cluster_6, person_id)\n",
    "    pattern = ' -> '.join(pattern)\n",
    "    \n",
    "    pattern_df.loc[len(pattern_df)] = pattern\n",
    "    \n",
    "pattern_df.head()"
   ]
  },
  {
   "cell_type": "markdown",
   "id": "b5f82c80",
   "metadata": {},
   "source": [
    "#### 패턴별 수에 대한 데이터프레임 생성"
   ]
  },
  {
   "cell_type": "code",
   "execution_count": 22,
   "id": "a4c073b1",
   "metadata": {},
   "outputs": [
    {
     "data": {
      "text/html": [
       "<div>\n",
       "<style scoped>\n",
       "    .dataframe tbody tr th:only-of-type {\n",
       "        vertical-align: middle;\n",
       "    }\n",
       "\n",
       "    .dataframe tbody tr th {\n",
       "        vertical-align: top;\n",
       "    }\n",
       "\n",
       "    .dataframe thead th {\n",
       "        text-align: right;\n",
       "    }\n",
       "</style>\n",
       "<table border=\"1\" class=\"dataframe\">\n",
       "  <thead>\n",
       "    <tr style=\"text-align: right;\">\n",
       "      <th></th>\n",
       "      <th>pattern</th>\n",
       "      <th>person_count</th>\n",
       "    </tr>\n",
       "  </thead>\n",
       "  <tbody>\n",
       "    <tr>\n",
       "      <th>0</th>\n",
       "      <td>a</td>\n",
       "      <td>12</td>\n",
       "    </tr>\n",
       "    <tr>\n",
       "      <th>1</th>\n",
       "      <td>a -&gt; b</td>\n",
       "      <td>10</td>\n",
       "    </tr>\n",
       "    <tr>\n",
       "      <th>2</th>\n",
       "      <td>a -&gt; b -&gt; c</td>\n",
       "      <td>3</td>\n",
       "    </tr>\n",
       "    <tr>\n",
       "      <th>3</th>\n",
       "      <td>(a,b)</td>\n",
       "      <td>2</td>\n",
       "    </tr>\n",
       "    <tr>\n",
       "      <th>4</th>\n",
       "      <td>(a,b) -&gt; c</td>\n",
       "      <td>1</td>\n",
       "    </tr>\n",
       "    <tr>\n",
       "      <th>5</th>\n",
       "      <td>a -&gt; (b,c) -&gt; d</td>\n",
       "      <td>1</td>\n",
       "    </tr>\n",
       "  </tbody>\n",
       "</table>\n",
       "</div>"
      ],
      "text/plain": [
       "           pattern  person_count\n",
       "0                a            12\n",
       "1           a -> b            10\n",
       "2      a -> b -> c             3\n",
       "3            (a,b)             2\n",
       "4       (a,b) -> c             1\n",
       "5  a -> (b,c) -> d             1"
      ]
     },
     "execution_count": 22,
     "metadata": {},
     "output_type": "execute_result"
    }
   ],
   "source": [
    "pattern_df = pattern_df.groupby('pattern').size().reset_index(name='person_count')\n",
    "pattern_df = pattern_df.sort_values('person_count', ascending=False).reset_index(drop=True)\n",
    "pattern_df"
   ]
  }
 ],
 "metadata": {
  "kernelspec": {
   "display_name": "Python 3",
   "language": "python",
   "name": "python3"
  },
  "language_info": {
   "codemirror_mode": {
    "name": "ipython",
    "version": 3
   },
   "file_extension": ".py",
   "mimetype": "text/x-python",
   "name": "python",
   "nbconvert_exporter": "python",
   "pygments_lexer": "ipython3",
   "version": "3.8.8"
  }
 },
 "nbformat": 4,
 "nbformat_minor": 5
}
