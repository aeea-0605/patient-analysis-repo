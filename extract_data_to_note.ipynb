{
 "cells": [
  {
   "cell_type": "code",
   "execution_count": 1,
   "id": "275d06c9",
   "metadata": {},
   "outputs": [],
   "source": [
    "from utils import db_info\n",
    "\n",
    "import re\n",
    "import numpy as np\n",
    "import pandas as pd\n",
    "import psycopg2\n",
    "from sqlalchemy import *\n",
    "from sqlalchemy.ext.declarative import declarative_base\n",
    "from sqlalchemy.orm import sessionmaker"
   ]
  },
  {
   "cell_type": "markdown",
   "id": "bb166c01",
   "metadata": {},
   "source": [
    "#### 데이터베이스 접속\n",
    "- data.ini를 사용해 hide variable 진행"
   ]
  },
  {
   "cell_type": "code",
   "execution_count": 2,
   "id": "6fa9e0a1",
   "metadata": {},
   "outputs": [],
   "source": [
    "connection_format = f'postgresql://{db_info[\"USER\"]}:{db_info[\"PASSWORD\"]}@{db_info[\"HOST\"]}:{db_info[\"PORT\"]}/{db_info[\"DB\"]}'\n",
    "        \n",
    "client = create_engine(connection_format)"
   ]
  },
  {
   "cell_type": "markdown",
   "id": "bedf544d",
   "metadata": {},
   "source": [
    "#### Clinical Note에 대한 데이터 로드\n",
    "- 개수는 총 23개 이다."
   ]
  },
  {
   "cell_type": "code",
   "execution_count": 3,
   "id": "807ecfe3",
   "metadata": {},
   "outputs": [
    {
     "name": "stdout",
     "output_type": "stream",
     "text": [
      "23\n"
     ]
    }
   ],
   "source": [
    "note_df = pd.read_sql('select * from de.clinical_note;', con=client)\n",
    "print(len(note_df))"
   ]
  },
  {
   "cell_type": "markdown",
   "id": "661e924e",
   "metadata": {},
   "source": [
    "#### Note에서 person 정보를 추출하는 함수"
   ]
  },
  {
   "cell_type": "code",
   "execution_count": 4,
   "id": "4944a987",
   "metadata": {},
   "outputs": [],
   "source": [
    "def input_person(text):\n",
    "    person_data = {}\n",
    "    \n",
    "    # person_id 중복여부 검사\n",
    "    person_num = np.random.choice(len(note_df), 1)\n",
    "    while person_num in person_df['person_id'].values:\n",
    "        person_num = np.random.choice(len(note_df), 1)\n",
    "\n",
    "    person_data['person_id'] = int(person_num)\n",
    "    \n",
    "    # birth_date 추출 후 split을 사용한 년, 월, 일 구분\n",
    "    birth_date = re.findall('Birth Date:\\s+?([0-9]{4}-[0-9]{2}-[0-9]{2})', text)[0]\n",
    "    person_data['year_of_birth'] = birth_date.split('-')[0]\n",
    "    person_data['month_of_birth'] = birth_date.split('-')[1]\n",
    "    person_data['day_of_birth'] = birth_date.split('-')[2]\n",
    "    \n",
    "    # 성별, 인종, 민족성에 대한 정보 추출\n",
    "    person_data['gender_value'] = re.findall('Gender:\\s*(\\w+)', text)[0]\n",
    "    person_data['race_value'] = re.findall('Race:\\s*(\\w+)', text)[0]\n",
    "    person_data['ethnicity_value'] = re.findall('Ethnicity:\\s*([a-zA-Z-]+)', text)[0]\n",
    "    \n",
    "    # 해당 note에서 추출한 person의 정보 저장\n",
    "    person_df.loc[len(person_df)] = person_data\n",
    "    \n",
    "    return person_num"
   ]
  },
  {
   "cell_type": "markdown",
   "id": "fe5606ff",
   "metadata": {},
   "source": [
    "#### Note에서 visit_occurrence 정보를 추출하는 함수"
   ]
  },
  {
   "cell_type": "code",
   "execution_count": 5,
   "id": "70121ae1",
   "metadata": {},
   "outputs": [],
   "source": [
    "def input_visit_occurrence(text, person_id):\n",
    "    # ENCOUNTER ~ MEDICATIONS 사이의 텍스트만 추출\n",
    "    visit_text = text[text.find('ENCOUNTER'):text.find('MEDICATIONS')]\n",
    "    \n",
    "    # visit_occurrence_id에 대한 중복여부 검사\n",
    "    visit_num = random.randint(1000, 1999)\n",
    "    while visit_num in visit_df['visit_occurrence_id'].values:\n",
    "        visit_num = random.randint(1000, 1999)\n",
    "        \n",
    "    visit_data = {}\n",
    "    \n",
    "    # 해당 note의 person_id와 visit_occurrence_id 정보 추출\n",
    "    visit_data['visit_occurrence_id'] = int(visit_num)\n",
    "    visit_data['person_id'] = int(person_id)\n",
    "    \n",
    "    # 해당 note의 visit_start_date, care_site_nm, visit_type_value 정보 추출\n",
    "    visit_data['visit_start_date'] = re.findall('ENCOUNTER\\s+([0-9]{4}-[0-9]{2}-[0-9]{2})', visit_text)[0]\n",
    "    visit_data['care_site_nm'] = re.findall('Encounter at\\s+([ a-zA-Z]+)', visit_text)[0]\n",
    "    visit_data['visit_type_value'] = re.findall('Type:\\s+([ a-zA-Z]+)', visit_text)[0]\n",
    "    \n",
    "    # 해당 note에서 추출한 visit_occurrence의 정보 저장\n",
    "    visit_df.loc[len(visit_df)] = visit_data\n",
    "    \n",
    "    return visit_num"
   ]
  },
  {
   "cell_type": "markdown",
   "id": "0a96f89b",
   "metadata": {},
   "source": [
    "#### Note에서 drug_exposure 정보를 추출하는 함수"
   ]
  },
  {
   "cell_type": "code",
   "execution_count": 6,
   "id": "5106ed5f",
   "metadata": {},
   "outputs": [],
   "source": [
    "def input_drug_exposure(text, person_id, visit_id):\n",
    "    # MEDICATIONS ~ CONDITIONS 사이의 텍스트만 추출\n",
    "    drug_text = text[text.find('MEDICATIONS'):text.find('CONDITIONS')]\n",
    "    \n",
    "    drug_data = {}\n",
    "    # 여러 개의 약처방이 가능하기에 try문을 통해 정보 추출 -> 약처방을 하지 않았다면 해당 note는 pass\n",
    "    try:\n",
    "        # 약을 처방한 date에 대한 정보 추출\n",
    "        drug_date_list = re.findall('([0-9]{4}-[0-9]{2}-[0-9]{2})', drug_text)\n",
    "        # 첫 번째 약처방부터 마지막 drug에 대한 정보 추출\n",
    "        for num in range(len(drug_date_list)):\n",
    "            # 해당 note의 person_id와 visit_occurrence_id 정보 추출\n",
    "            drug_data['person_id'] = int(person_id)\n",
    "            drug_data['visit_occurrence_id'] = int(visit_id)\n",
    "            \n",
    "            # drug_exposure_id에 대한 중복여부 검사\n",
    "            drug_exposure_num = random.randint(2000, 2999)\n",
    "            while drug_exposure_num in drug_df['drug_exposure_id'].values:\n",
    "                drug_exposure_num = random.randint(2000, 2999)\n",
    "                \n",
    "            # drug_exposure_id와 drug_exposure_start_date 정보 추출\n",
    "            drug_data['drug_exposure_id'] = int(drug_exposure_num)\n",
    "            drug_data['drug_exposure_start_date'] = drug_date_list[num]\n",
    "            \n",
    "            # 해당 처방건의 drug_value 추출\n",
    "            drug_name = re.findall(drug_date_list[num]+' :\\s+([a-zA-z]+)', drug_text)[0]\n",
    "            drug_data['drug_value'] = drug_name\n",
    "            \n",
    "            # 해당 처방건의 dose_value 추출\n",
    "            dose = re.findall(drug_name+'\\s+(\\d+)', drug_text)[0]\n",
    "            drug_data['dose_value'] = dose\n",
    "            \n",
    "            # 해당 처방건의 unit_value 추출\n",
    "            unit = re.findall(dose+'\\s+([a-zA-Z]+)', drug_text)[0]\n",
    "            drug_data['unit_value'] = unit\n",
    "            \n",
    "            # 해당 처방건의 route_value 추출\n",
    "            route = re.findall(unit+'\\s+([a-zA-Z]+)', drug_text)[0]\n",
    "            drug_data['route_value'] = route\n",
    "            \n",
    "            # 해당 처방건의 drug_exposure의 정보 저장\n",
    "            drug_df.loc[len(drug_df)] = drug_data\n",
    "    except:\n",
    "        pass"
   ]
  },
  {
   "cell_type": "markdown",
   "id": "cca3ac36",
   "metadata": {},
   "source": [
    "#### Note에서 condition_occurrence 정보를 추출하는 함수"
   ]
  },
  {
   "cell_type": "code",
   "execution_count": 7,
   "id": "1674b2e4",
   "metadata": {},
   "outputs": [],
   "source": [
    "def input_condition_occurrence(text, person_id, visit_id):\n",
    "    # CONDITIONS ~ CARE PLANS 사이의 텍스트만 추출\n",
    "    condition_text = text[text.find('CONDITIONS'):text.find('CARE PLANS')]\n",
    "    \n",
    "    condition_data = {}\n",
    "    # 여러 개의 진단이 가능하기에 try문을 통해 정보 추출 -> 진단을 하지 않았다면 해당 note는 pass\n",
    "    try:\n",
    "        # 해당 note의 진단 date list 정보 추출\n",
    "        condition_date_list = re.findall('([0-9]{4}-[0-9]{2}-[0-9]{2})', condition_text)\n",
    "        # 해당 note의 진단명 list 정보 추출\n",
    "        condition_value_list = re.findall(condition_date_list[0]+'\\s+:\\s+([a-zA-z \\d-]+)', condition_text)\n",
    "        \n",
    "        # 각 진단별로 정보 추출\n",
    "        for num in range(len(condition_date_list)):\n",
    "            # 해당 note의 person_id와 visit_occurrence_id 정보 추출\n",
    "            condition_data['person_id'] = int(person_id)\n",
    "            condition_data['visit_occurrence_id'] = int(visit_id)\n",
    "            \n",
    "            # condition_occurrence_id에 대한 중복여부 검사\n",
    "            condition_num = random.randint(3000, 3999)\n",
    "            while condition_num in condition_df['condition_occurrence_id'].values:\n",
    "                condition_num = random.randint(3000, 3999)\n",
    "            \n",
    "            # 해당 진단에 대한 condition_occurrence_id, condition_start_date, condition_value 추출\n",
    "            condition_data['condition_occurrence_id'] = int(condition_num)\n",
    "            condition_data['condition_start_date'] = condition_date_list[num]\n",
    "            condition_data['condition_value'] = condition_value_list[num]\n",
    "            \n",
    "            # 해당 진단의 condition_occurrence 정보 저장\n",
    "            condition_df.loc[len(condition_df)] = condition_data\n",
    "    except:\n",
    "        pass"
   ]
  },
  {
   "cell_type": "markdown",
   "id": "44c6fe8e",
   "metadata": {},
   "source": [
    "#### 4가지 정보에 대한 데이터프레임 Schema 생성"
   ]
  },
  {
   "cell_type": "code",
   "execution_count": 8,
   "id": "740402ec",
   "metadata": {},
   "outputs": [],
   "source": [
    "person_df = pd.DataFrame(columns=['person_id', 'year_of_birth', 'month_of_birth', 'day_of_birth',\n",
    "                                 'gender_value', 'race_value', 'ethnicity_value'])\n",
    "visit_df = pd.DataFrame(columns=['visit_occurrence_id', 'person_id', 'visit_start_date',\n",
    "                                'care_site_nm', 'visit_type_value'])\n",
    "drug_df = pd.DataFrame(columns=['drug_exposure_id', 'person_id', 'drug_exposure_start_date',\n",
    "                               'drug_value', 'route_value', 'dose_value', 'unit_value', 'visit_occurrence_id'])\n",
    "condition_df = pd.DataFrame(columns=['condition_occurrence_id', 'person_id', 'condition_start_date',\n",
    "                                    'condition_value', 'visit_occurrence_id'])"
   ]
  },
  {
   "cell_type": "markdown",
   "id": "6651b76e",
   "metadata": {},
   "source": [
    "#### 23개의 Note에 대한 4가지의 정보 데이터 추출 후, 데이터프레임에 저장"
   ]
  },
  {
   "cell_type": "code",
   "execution_count": 9,
   "id": "a12def22",
   "metadata": {
    "scrolled": true
   },
   "outputs": [
    {
     "name": "stdout",
     "output_type": "stream",
     "text": [
      "Current Note Number : 0\n",
      "Current Note Number : 1\n",
      "Current Note Number : 2\n",
      "Current Note Number : 3\n",
      "Current Note Number : 4\n",
      "Current Note Number : 5\n",
      "Current Note Number : 6\n",
      "Current Note Number : 7\n",
      "Current Note Number : 8\n",
      "Current Note Number : 9\n",
      "Current Note Number : 10\n",
      "Current Note Number : 11\n",
      "Current Note Number : 12\n",
      "Current Note Number : 13\n",
      "Current Note Number : 14\n",
      "Current Note Number : 15\n",
      "Current Note Number : 16\n",
      "Current Note Number : 17\n",
      "Current Note Number : 18\n",
      "Current Note Number : 19\n",
      "Current Note Number : 20\n",
      "Current Note Number : 21\n",
      "Current Note Number : 22\n"
     ]
    }
   ],
   "source": [
    "for idx, note in enumerate(note_df['note']):\n",
    "    print(f'Current Note Number : {idx}')\n",
    "    \n",
    "    # 해당 note의 CONTINUING 부분 제외\n",
    "    if note.find('CONTINUING') >= 0:\n",
    "        del_idx = note.find('CONTINUING')\n",
    "        note = note[:del_idx]\n",
    "        \n",
    "    # 해당 note의 person 정보 추가 및 현재 note의 person_id 반환\n",
    "    person_id = input_person(note)\n",
    "    \n",
    "    # 해당 note의 visit_occurrence 정보 추가 및 현재 note의 visit_occurrence_id 반환\n",
    "    visit_id = input_visit_occurrence(note, person_id)\n",
    "    \n",
    "    # 해당 note의 drug_exposure 정보 추가\n",
    "    input_drug_exposure(note, person_id, visit_id)\n",
    "    \n",
    "    # 해당 note의 condition_occurrence 정보 추가\n",
    "    input_condition_occurrence(note, person_id, visit_id)"
   ]
  },
  {
   "cell_type": "markdown",
   "id": "f85f64e3",
   "metadata": {},
   "source": [
    "### SQLAlchemy를 사용해 Postgres DB로 데이터 저장"
   ]
  },
  {
   "cell_type": "markdown",
   "id": "b66f335f",
   "metadata": {},
   "source": [
    "#### Base 클래스 선언 (모델 생성) "
   ]
  },
  {
   "cell_type": "code",
   "execution_count": 10,
   "id": "d73a1ac7",
   "metadata": {},
   "outputs": [],
   "source": [
    "Base = declarative_base()"
   ]
  },
  {
   "cell_type": "markdown",
   "id": "3af68e19",
   "metadata": {},
   "source": [
    "#### person 테이블에 연결할 class 생성"
   ]
  },
  {
   "cell_type": "code",
   "execution_count": 11,
   "id": "b3d06415",
   "metadata": {},
   "outputs": [],
   "source": [
    "class Person(Base):\n",
    "    __tablename__ = 'note_person'\n",
    "    person_id = Column(BIGINT, primary_key=True)\n",
    "    year_of_birth = Column(Integer, nullable=False)\n",
    "    month_of_birth = Column(Integer)\n",
    "    day_of_birth = Column(Integer)\n",
    "    gender_value = Column(String(50))\n",
    "    race_value = Column(String(50))\n",
    "    ethnicity_value = Column(String(50))\n",
    "    \n",
    "    def __init__(self, person_id, year_of_birth, month_of_birth, day_of_birth, gender_value, race_value, ethnicity_value):\n",
    "        self.person_id = person_id\n",
    "        self.year_of_birth = year_of_birth\n",
    "        self.month_of_birth = month_of_birth\n",
    "        self.day_of_birth = day_of_birth\n",
    "        self.gender_value = gender_value\n",
    "        self.race_value = race_value\n",
    "        self.ethnicity_value = ethnicity_value\n",
    "        \n",
    "    def __repr__(self):\n",
    "        return f'<Person {self.person_id}, {self.year_of_birth}>'"
   ]
  },
  {
   "cell_type": "markdown",
   "id": "20e6c143",
   "metadata": {},
   "source": [
    "#### visit_occurrence 테이블에 연결할 class 생성"
   ]
  },
  {
   "cell_type": "code",
   "execution_count": 12,
   "id": "b352bf9c",
   "metadata": {},
   "outputs": [],
   "source": [
    "class VisitOccurence(Base):\n",
    "    __tablename__ = 'note_visit_occurrence'\n",
    "    visit_occurrence_id = Column(BIGINT, primary_key=True)\n",
    "    person_id = Column(BIGINT, ForeignKey('note_person.person_id'))\n",
    "    visit_start_date = Column(Date)\n",
    "    care_site_nm = Column(TEXT)\n",
    "    visit_type_value = Column(String(50))\n",
    "    \n",
    "    def __init__(self, visit_occurrence_id, person_id, visit_start_date, care_site_nm, visit_type_value):\n",
    "        self.visit_occurrence_id = visit_occurrence_id\n",
    "        self.person_id = person_id\n",
    "        self.visit_start_date = visit_start_date\n",
    "        self.care_site_nm = care_site_nm\n",
    "        self.visit_type_value = visit_type_value\n",
    "        \n",
    "    def __repr__(self):\n",
    "        return f'<VisitOccurrence {self.visit_occurrence_id}, {self.person_id}>'"
   ]
  },
  {
   "cell_type": "markdown",
   "id": "5047224e",
   "metadata": {},
   "source": [
    "#### drug_exposure 테이블에 연결할 class 생성"
   ]
  },
  {
   "cell_type": "code",
   "execution_count": 13,
   "id": "aa08855c",
   "metadata": {},
   "outputs": [],
   "source": [
    "class DrugExposure(Base):\n",
    "    __tablename__ = 'note_drug_exposure'\n",
    "    drug_exposure_id = Column(BIGINT, primary_key=True)\n",
    "    person_id = Column(BIGINT, ForeignKey('note_person.person_id'))\n",
    "    drug_exposure_start_date = Column(Date)\n",
    "    drug_value = Column(TEXT)\n",
    "    route_value = Column(String(50))\n",
    "    dose_value = Column(String(50))\n",
    "    unit_value = Column(String(50))\n",
    "    visit_occurrence_id = Column(BIGINT, ForeignKey('note_visit_occurrence.visit_occurrence_id'))\n",
    "    \n",
    "    def __init__(self, drug_exposure_id, person_id, drug_exposure_start_date, drug_value, route_value, dose_value, unit_value, visit_occurrence_id):\n",
    "        self.drug_exposure_id = drug_exposure_id\n",
    "        self.person_id = person_id\n",
    "        self.drug_exposure_start_date = drug_exposure_start_date\n",
    "        self.drug_value = drug_value\n",
    "        self.route_value = route_value\n",
    "        self.dose_value = dose_value\n",
    "        self.unit_value = unit_value\n",
    "        self.visit_occurrence_id = visit_occurrence_id\n",
    "        \n",
    "    def __repr__(self):\n",
    "        return f'<DrugExposure {self.drug_exposure_id}, {self.person_id}, {self.visit_occurrence_id}>'"
   ]
  },
  {
   "cell_type": "markdown",
   "id": "08762ce0",
   "metadata": {},
   "source": [
    "#### condition_occurrence테이블에 연결할 class 생성"
   ]
  },
  {
   "cell_type": "code",
   "execution_count": 14,
   "id": "3100cfe0",
   "metadata": {},
   "outputs": [],
   "source": [
    "class ConditionOccurrence(Base):\n",
    "    __tablename__ = 'note_condition_occurrence'\n",
    "    condition_occurrence_id = Column(BIGINT, primary_key=True)\n",
    "    person_id = Column(BIGINT, ForeignKey('note_person.person_id'))\n",
    "    condition_start_date = Column(Date)\n",
    "    condition_value = Column(TEXT)\n",
    "    visit_occurrence_id = Column(BIGINT, ForeignKey('note_visit_occurrence.visit_occurrence_id'))\n",
    "    \n",
    "    def __init__(self, condition_occurrence_id, person_id, condition_start_date, condition_value, visit_occurrence_id):\n",
    "        self.condition_occurrence_id = condition_occurrence_id\n",
    "        self.person_id = person_id\n",
    "        self.condition_start_date = condition_start_date\n",
    "        self.condition_value = condition_value\n",
    "        self.visit_occurrence_id = visit_occurrence_id\n",
    "        \n",
    "    def __repr__(self):\n",
    "        return f'<ConditionOccurrence {self.condition_occurrence_id}, {self.person_id}, {self.visit_occurrence_id}>'"
   ]
  },
  {
   "cell_type": "markdown",
   "id": "e6848f0d",
   "metadata": {},
   "source": [
    "#### 선언된 Class들과 데이터베이스의 스키마 동기화"
   ]
  },
  {
   "cell_type": "code",
   "execution_count": 15,
   "id": "d233eb15",
   "metadata": {},
   "outputs": [],
   "source": [
    "Base.metadata.create_all(client)"
   ]
  },
  {
   "cell_type": "markdown",
   "id": "71b27c64",
   "metadata": {},
   "source": [
    "#### 세션 생성"
   ]
  },
  {
   "cell_type": "code",
   "execution_count": 16,
   "id": "e7e5cd18",
   "metadata": {},
   "outputs": [],
   "source": [
    "session = sessionmaker(bind=client)()"
   ]
  },
  {
   "cell_type": "markdown",
   "id": "4aeff7bd",
   "metadata": {},
   "source": [
    "#### person_df에 저장된 데이터를 person 테이블에 Insert"
   ]
  },
  {
   "cell_type": "code",
   "execution_count": 17,
   "id": "aaf412ae",
   "metadata": {},
   "outputs": [],
   "source": [
    "person_datas = []\n",
    "for data in person_df.iterrows():\n",
    "    data = data[1].to_dict()\n",
    "    person_datas.append(Person(**data))"
   ]
  },
  {
   "cell_type": "markdown",
   "id": "8395122f",
   "metadata": {},
   "source": [
    "#### transaction 실행 후 session에 있는 task 초기화"
   ]
  },
  {
   "cell_type": "code",
   "execution_count": 18,
   "id": "b1eb6d13",
   "metadata": {},
   "outputs": [],
   "source": [
    "session.add_all(person_datas)\n",
    "session.commit()\n",
    "session.rollback()"
   ]
  },
  {
   "cell_type": "markdown",
   "id": "b5eeb277",
   "metadata": {},
   "source": [
    "#### visit_df 저장된 데이터를 visit_occurrence 테이블에 Insert"
   ]
  },
  {
   "cell_type": "code",
   "execution_count": 19,
   "id": "b6c60252",
   "metadata": {},
   "outputs": [],
   "source": [
    "visit_datas = []\n",
    "for data in visit_df.iterrows():\n",
    "    data = data[1].to_dict()\n",
    "    visit_datas.append(VisitOccurence(**data))"
   ]
  },
  {
   "cell_type": "markdown",
   "id": "7acd42ee",
   "metadata": {},
   "source": [
    "#### transaction 실행 후 session에 있는 task 초기화"
   ]
  },
  {
   "cell_type": "code",
   "execution_count": 20,
   "id": "80440524",
   "metadata": {},
   "outputs": [],
   "source": [
    "session.add_all(visit_datas)\n",
    "session.commit()\n",
    "session.rollback()"
   ]
  },
  {
   "cell_type": "markdown",
   "id": "9a93f439",
   "metadata": {},
   "source": [
    "#### drug_df 저장된 데이터를 drug_exposure 테이블에 Insert"
   ]
  },
  {
   "cell_type": "code",
   "execution_count": 21,
   "id": "bff27267",
   "metadata": {},
   "outputs": [],
   "source": [
    "drug_datas = []\n",
    "for data in drug_df.iterrows():\n",
    "    data = data[1].to_dict()\n",
    "    drug_datas.append(DrugExposure(**data))"
   ]
  },
  {
   "cell_type": "markdown",
   "id": "c7a18978",
   "metadata": {},
   "source": [
    "#### transaction 실행 후 session에 있는 task 초기화"
   ]
  },
  {
   "cell_type": "code",
   "execution_count": 22,
   "id": "18aec0ae",
   "metadata": {},
   "outputs": [],
   "source": [
    "session.add_all(drug_datas)\n",
    "session.commit()\n",
    "session.rollback()"
   ]
  },
  {
   "cell_type": "markdown",
   "id": "2fe88b09",
   "metadata": {},
   "source": [
    "#### condition_df 저장된 데이터를 condition_occurrence 테이블에 Insert"
   ]
  },
  {
   "cell_type": "code",
   "execution_count": 23,
   "id": "fe73dd32",
   "metadata": {},
   "outputs": [],
   "source": [
    "condition_datas = []\n",
    "for data in condition_df.iterrows():\n",
    "    data = data[1].to_dict()\n",
    "    condition_datas.append(ConditionOccurrence(**data))"
   ]
  },
  {
   "cell_type": "markdown",
   "id": "30912cb2",
   "metadata": {},
   "source": [
    "#### transaction 실행 후 session에 있는 task 초기화"
   ]
  },
  {
   "cell_type": "code",
   "execution_count": 24,
   "id": "eebf98e5",
   "metadata": {},
   "outputs": [],
   "source": [
    "session.add_all(condition_datas)\n",
    "session.commit()\n",
    "session.rollback()"
   ]
  },
  {
   "cell_type": "markdown",
   "id": "7dc96003",
   "metadata": {},
   "source": [
    "#### 세션 종료"
   ]
  },
  {
   "cell_type": "code",
   "execution_count": 25,
   "id": "26e86e15",
   "metadata": {},
   "outputs": [],
   "source": [
    "session.close()"
   ]
  }
 ],
 "metadata": {
  "kernelspec": {
   "display_name": "Python 3",
   "language": "python",
   "name": "python3"
  },
  "language_info": {
   "codemirror_mode": {
    "name": "ipython",
    "version": 3
   },
   "file_extension": ".py",
   "mimetype": "text/x-python",
   "name": "python",
   "nbconvert_exporter": "python",
   "pygments_lexer": "ipython3",
   "version": "3.8.8"
  }
 },
 "nbformat": 4,
 "nbformat_minor": 5
}
